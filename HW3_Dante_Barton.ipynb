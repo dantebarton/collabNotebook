{
  "nbformat": 4,
  "nbformat_minor": 0,
  "metadata": {
    "colab": {
      "provenance": [],
      "include_colab_link": true
    },
    "kernelspec": {
      "name": "python3",
      "display_name": "Python 3"
    },
    "language_info": {
      "name": "python"
    }
  },
  "cells": [
    {
      "cell_type": "markdown",
      "metadata": {
        "id": "view-in-github",
        "colab_type": "text"
      },
      "source": [
        "<a href=\"https://colab.research.google.com/github/dantebarton/collabNotebook/blob/main/HW3_Dante_Barton.ipynb\" target=\"_parent\"><img src=\"https://colab.research.google.com/assets/colab-badge.svg\" alt=\"Open In Colab\"/></a>"
      ]
    },
    {
      "cell_type": "markdown",
      "source": [
        "# Digit Classification with the MNIST Dataset\n",
        "\n",
        "\n",
        "Objective:\n",
        "The primary goal of this assignment is to provide hands-on experience with loading datasets, preparing data for training, and using a  neural network architecture to classify handwritten digits from the MNIST dataset. This assignment aims to deepen understanding of neural networks and familiarize students with practical aspects of training models using PyTorch.\n",
        "\n",
        "Setup and Requirements Installation:"
      ],
      "metadata": {
        "id": "uP6qIP_Wyv-s"
      }
    },
    {
      "cell_type": "code",
      "source": [
        "!pip install torch torchvision"
      ],
      "metadata": {
        "id": "BB2gEaviw4IV",
        "colab": {
          "base_uri": "https://localhost:8080/"
        },
        "outputId": "abe23fab-7bb4-4b17-be52-984dc86aec24"
      },
      "execution_count": null,
      "outputs": [
        {
          "output_type": "stream",
          "name": "stdout",
          "text": [
            "Requirement already satisfied: torch in /usr/local/lib/python3.10/dist-packages (2.2.1+cu121)\n",
            "Requirement already satisfied: torchvision in /usr/local/lib/python3.10/dist-packages (0.17.1+cu121)\n",
            "Requirement already satisfied: filelock in /usr/local/lib/python3.10/dist-packages (from torch) (3.13.3)\n",
            "Requirement already satisfied: typing-extensions>=4.8.0 in /usr/local/lib/python3.10/dist-packages (from torch) (4.10.0)\n",
            "Requirement already satisfied: sympy in /usr/local/lib/python3.10/dist-packages (from torch) (1.12)\n",
            "Requirement already satisfied: networkx in /usr/local/lib/python3.10/dist-packages (from torch) (3.2.1)\n",
            "Requirement already satisfied: jinja2 in /usr/local/lib/python3.10/dist-packages (from torch) (3.1.3)\n",
            "Requirement already satisfied: fsspec in /usr/local/lib/python3.10/dist-packages (from torch) (2023.6.0)\n",
            "Collecting nvidia-cuda-nvrtc-cu12==12.1.105 (from torch)\n",
            "  Downloading nvidia_cuda_nvrtc_cu12-12.1.105-py3-none-manylinux1_x86_64.whl (23.7 MB)\n",
            "\u001b[2K     \u001b[90m━━━━━━━━━━━━━━━━━━━━━━━━━━━━━━━━━━━━━━━━\u001b[0m \u001b[32m23.7/23.7 MB\u001b[0m \u001b[31m17.0 MB/s\u001b[0m eta \u001b[36m0:00:00\u001b[0m\n",
            "\u001b[?25hCollecting nvidia-cuda-runtime-cu12==12.1.105 (from torch)\n",
            "  Downloading nvidia_cuda_runtime_cu12-12.1.105-py3-none-manylinux1_x86_64.whl (823 kB)\n",
            "\u001b[2K     \u001b[90m━━━━━━━━━━━━━━━━━━━━━━━━━━━━━━━━━━━━━━━━\u001b[0m \u001b[32m823.6/823.6 kB\u001b[0m \u001b[31m29.2 MB/s\u001b[0m eta \u001b[36m0:00:00\u001b[0m\n",
            "\u001b[?25hCollecting nvidia-cuda-cupti-cu12==12.1.105 (from torch)\n",
            "  Downloading nvidia_cuda_cupti_cu12-12.1.105-py3-none-manylinux1_x86_64.whl (14.1 MB)\n",
            "\u001b[2K     \u001b[90m━━━━━━━━━━━━━━━━━━━━━━━━━━━━━━━━━━━━━━━━\u001b[0m \u001b[32m14.1/14.1 MB\u001b[0m \u001b[31m25.6 MB/s\u001b[0m eta \u001b[36m0:00:00\u001b[0m\n",
            "\u001b[?25hCollecting nvidia-cudnn-cu12==8.9.2.26 (from torch)\n",
            "  Downloading nvidia_cudnn_cu12-8.9.2.26-py3-none-manylinux1_x86_64.whl (731.7 MB)\n",
            "\u001b[2K     \u001b[90m━━━━━━━━━━━━━━━━━━━━━━━━━━━━━━━━━━━━━━━━\u001b[0m \u001b[32m731.7/731.7 MB\u001b[0m \u001b[31m916.5 kB/s\u001b[0m eta \u001b[36m0:00:00\u001b[0m\n",
            "\u001b[?25hCollecting nvidia-cublas-cu12==12.1.3.1 (from torch)\n",
            "  Downloading nvidia_cublas_cu12-12.1.3.1-py3-none-manylinux1_x86_64.whl (410.6 MB)\n",
            "\u001b[2K     \u001b[90m━━━━━━━━━━━━━━━━━━━━━━━━━━━━━━━━━━━━━━━━\u001b[0m \u001b[32m410.6/410.6 MB\u001b[0m \u001b[31m2.4 MB/s\u001b[0m eta \u001b[36m0:00:00\u001b[0m\n",
            "\u001b[?25hCollecting nvidia-cufft-cu12==11.0.2.54 (from torch)\n",
            "  Downloading nvidia_cufft_cu12-11.0.2.54-py3-none-manylinux1_x86_64.whl (121.6 MB)\n",
            "\u001b[2K     \u001b[90m━━━━━━━━━━━━━━━━━━━━━━━━━━━━━━━━━━━━━━━━\u001b[0m \u001b[32m121.6/121.6 MB\u001b[0m \u001b[31m2.1 MB/s\u001b[0m eta \u001b[36m0:00:00\u001b[0m\n",
            "\u001b[?25hCollecting nvidia-curand-cu12==10.3.2.106 (from torch)\n",
            "  Downloading nvidia_curand_cu12-10.3.2.106-py3-none-manylinux1_x86_64.whl (56.5 MB)\n",
            "\u001b[2K     \u001b[90m━━━━━━━━━━━━━━━━━━━━━━━━━━━━━━━━━━━━━━━━\u001b[0m \u001b[32m56.5/56.5 MB\u001b[0m \u001b[31m3.8 MB/s\u001b[0m eta \u001b[36m0:00:00\u001b[0m\n",
            "\u001b[?25hCollecting nvidia-cusolver-cu12==11.4.5.107 (from torch)\n",
            "  Downloading nvidia_cusolver_cu12-11.4.5.107-py3-none-manylinux1_x86_64.whl (124.2 MB)\n",
            "\u001b[2K     \u001b[90m━━━━━━━━━━━━━━━━━━━━━━━━━━━━━━━━━━━━━━━━\u001b[0m \u001b[32m124.2/124.2 MB\u001b[0m \u001b[31m4.4 MB/s\u001b[0m eta \u001b[36m0:00:00\u001b[0m\n",
            "\u001b[?25hCollecting nvidia-cusparse-cu12==12.1.0.106 (from torch)\n",
            "  Downloading nvidia_cusparse_cu12-12.1.0.106-py3-none-manylinux1_x86_64.whl (196.0 MB)\n",
            "\u001b[2K     \u001b[90m━━━━━━━━━━━━━━━━━━━━━━━━━━━━━━━━━━━━━━━━\u001b[0m \u001b[32m196.0/196.0 MB\u001b[0m \u001b[31m3.1 MB/s\u001b[0m eta \u001b[36m0:00:00\u001b[0m\n",
            "\u001b[?25hCollecting nvidia-nccl-cu12==2.19.3 (from torch)\n",
            "  Downloading nvidia_nccl_cu12-2.19.3-py3-none-manylinux1_x86_64.whl (166.0 MB)\n",
            "\u001b[2K     \u001b[90m━━━━━━━━━━━━━━━━━━━━━━━━━━━━━━━━━━━━━━━━\u001b[0m \u001b[32m166.0/166.0 MB\u001b[0m \u001b[31m2.5 MB/s\u001b[0m eta \u001b[36m0:00:00\u001b[0m\n",
            "\u001b[?25hCollecting nvidia-nvtx-cu12==12.1.105 (from torch)\n",
            "  Downloading nvidia_nvtx_cu12-12.1.105-py3-none-manylinux1_x86_64.whl (99 kB)\n",
            "\u001b[2K     \u001b[90m━━━━━━━━━━━━━━━━━━━━━━━━━━━━━━━━━━━━━━━━\u001b[0m \u001b[32m99.1/99.1 kB\u001b[0m \u001b[31m4.4 MB/s\u001b[0m eta \u001b[36m0:00:00\u001b[0m\n",
            "\u001b[?25hRequirement already satisfied: triton==2.2.0 in /usr/local/lib/python3.10/dist-packages (from torch) (2.2.0)\n",
            "Collecting nvidia-nvjitlink-cu12 (from nvidia-cusolver-cu12==11.4.5.107->torch)\n",
            "  Downloading nvidia_nvjitlink_cu12-12.4.127-py3-none-manylinux2014_x86_64.whl (21.1 MB)\n",
            "\u001b[2K     \u001b[90m━━━━━━━━━━━━━━━━━━━━━━━━━━━━━━━━━━━━━━━━\u001b[0m \u001b[32m21.1/21.1 MB\u001b[0m \u001b[31m3.3 MB/s\u001b[0m eta \u001b[36m0:00:00\u001b[0m\n",
            "\u001b[?25hRequirement already satisfied: numpy in /usr/local/lib/python3.10/dist-packages (from torchvision) (1.25.2)\n",
            "Requirement already satisfied: pillow!=8.3.*,>=5.3.0 in /usr/local/lib/python3.10/dist-packages (from torchvision) (9.4.0)\n",
            "Requirement already satisfied: MarkupSafe>=2.0 in /usr/local/lib/python3.10/dist-packages (from jinja2->torch) (2.1.5)\n",
            "Requirement already satisfied: mpmath>=0.19 in /usr/local/lib/python3.10/dist-packages (from sympy->torch) (1.3.0)\n",
            "Installing collected packages: nvidia-nvtx-cu12, nvidia-nvjitlink-cu12, nvidia-nccl-cu12, nvidia-curand-cu12, nvidia-cufft-cu12, nvidia-cuda-runtime-cu12, nvidia-cuda-nvrtc-cu12, nvidia-cuda-cupti-cu12, nvidia-cublas-cu12, nvidia-cusparse-cu12, nvidia-cudnn-cu12, nvidia-cusolver-cu12\n",
            "Successfully installed nvidia-cublas-cu12-12.1.3.1 nvidia-cuda-cupti-cu12-12.1.105 nvidia-cuda-nvrtc-cu12-12.1.105 nvidia-cuda-runtime-cu12-12.1.105 nvidia-cudnn-cu12-8.9.2.26 nvidia-cufft-cu12-11.0.2.54 nvidia-curand-cu12-10.3.2.106 nvidia-cusolver-cu12-11.4.5.107 nvidia-cusparse-cu12-12.1.0.106 nvidia-nccl-cu12-2.19.3 nvidia-nvjitlink-cu12-12.4.127 nvidia-nvtx-cu12-12.1.105\n"
          ]
        }
      ]
    },
    {
      "cell_type": "markdown",
      "source": [
        "1. Load the MNIST Dataset\n",
        "First, let's import the necessary libraries and load the MNIST dataset.\n",
        "\n"
      ],
      "metadata": {
        "id": "cXKGEzPf0q_p"
      }
    },
    {
      "cell_type": "code",
      "source": [
        "#todo: based on what you learned in assignment 2, load train and test datasets\n",
        "import torch\n",
        "import torch.nn as nn\n",
        "import torch.nn.functional as F\n",
        "from torchvision import datasets, transforms\n",
        "\n",
        "# Define a transform to normalize the data\n",
        "transform = transforms.Compose([transforms.ToTensor(),\n",
        "                                transforms.Normalize((0.5,), (0.5,))])\n",
        "\n",
        "# Download and load the training data\n",
        "trainset = datasets.MNIST('~/.pytorch/MNIST_data/', download=True, train=True, transform=transform)\n",
        "testloader = torch.utils.data.DataLoader(trainset, batch_size=64, shuffle=True)\n",
        "\n",
        "# Get one batch of training images and labels\n",
        "# images, labels = next(iter(trainloader))\n",
        "# print(\"Shape of images:\", images.shape)\n",
        "# print(\"Shape of labels:\", labels.shape)"
      ],
      "metadata": {
        "id": "U4pHf3BLzG-n"
      },
      "execution_count": null,
      "outputs": []
    },
    {
      "cell_type": "markdown",
      "source": [
        "2. Define the Model Architecture\n",
        "Here is the neural network model architecture ."
      ],
      "metadata": {
        "id": "-SipTNTb1QhL"
      }
    },
    {
      "cell_type": "code",
      "source": [
        "#Original Model Architecture\n",
        "# class Net(nn.Module):\n",
        "#     def __init__(self):\n",
        "#         super(Net, self).__init__()\n",
        "#         self.flatten = nn.Flatten()\n",
        "#         self.fc1 = nn.Linear(28*28, 128)\n",
        "#         self.dropout = nn.Dropout(0.2)\n",
        "#         self.fc2 = nn.Linear(128, 10)\n",
        "\n",
        "#     def forward(self, x):\n",
        "#         x = self.flatten(x)\n",
        "#         x = F.relu(self.fc1(x))\n",
        "#         x = self.dropout(x)\n",
        "#         x = self.fc2(x)\n",
        "#         return F.log_softmax(x, dim=1)\n",
        "\n",
        "# model = Net()\n",
        "\n",
        "#Modified Model Architecture#\n",
        "\n",
        "class Net(nn.Module):\n",
        "    def __init__(self):\n",
        "        super(Net, self).__init__()\n",
        "        self.flatten = nn.Flatten()\n",
        "        self.fc1 = nn.Linear(28*28, 256)  # Increased number of neurons in the first hidden layer\n",
        "        self.fc2 = nn.Linear(256, 128)    # Decreased number of neurons in the second hidden layer\n",
        "        self.dropout1 = nn.Dropout(0.2)   # Added dropout layer after the first hidden layer\n",
        "        self.fc3 = nn.Linear(128, 64)     # Additional fully connected layer\n",
        "        self.dropout2 = nn.Dropout(0.2)   # Added dropout layer after the additional fully connected layer\n",
        "        self.fc4 = nn.Linear(64, 10)\n",
        "\n",
        "    def forward(self, x):\n",
        "        x = self.flatten(x)\n",
        "        x = F.relu(self.fc1(x))\n",
        "        x = self.dropout1(x)\n",
        "        x = F.relu(self.fc2(x))\n",
        "        x = self.dropout2(x)\n",
        "        x = F.relu(self.fc3(x))          # Applying ReLU activation after the additional fully connected layer\n",
        "        x = self.fc4(x)\n",
        "        return F.log_softmax(x, dim=1)\n",
        "\n",
        "# Instantiate the modified model\n",
        "model = Net()\n",
        "\n"
      ],
      "metadata": {
        "id": "LzPjwjPgzV9A"
      },
      "execution_count": null,
      "outputs": []
    },
    {
      "cell_type": "markdown",
      "source": [
        "3. Train the Model\n",
        "Define the optimizer and loss function, and then train the model."
      ],
      "metadata": {
        "id": "PAqFgw9F1cZy"
      }
    },
    {
      "cell_type": "code",
      "source": [
        "from torch import optim\n",
        "optimizer = optim.Adam(model.parameters(), lr=0.003)\n",
        "criterion = nn.NLLLoss()\n",
        "\n",
        "epochs = 5\n",
        "for e in range(epochs):\n",
        "    running_loss = 0\n",
        "    for images, labels in trainloader:\n",
        "        optimizer.zero_grad()\n",
        "\n",
        "        log_ps = model(images)\n",
        "        loss = criterion(log_ps, labels)\n",
        "        loss.backward()\n",
        "        optimizer.step()\n",
        "\n",
        "        running_loss += loss.item()\n",
        "    else:\n",
        "        print(f\"Training loss: {running_loss/len(trainloader)}\")\n"
      ],
      "metadata": {
        "id": "KzD8U0IXzhJY",
        "colab": {
          "base_uri": "https://localhost:8080/"
        },
        "outputId": "5937afce-5e30-4e82-ab9f-dcb6fd47ef11"
      },
      "execution_count": null,
      "outputs": [
        {
          "output_type": "stream",
          "name": "stdout",
          "text": [
            "Training loss: 0.42441764193525444\n",
            "Training loss: 0.2605543776369616\n",
            "Training loss: 0.22789491272604923\n",
            "Training loss: 0.20418292797927154\n",
            "Training loss: 0.19269687280670475\n"
          ]
        }
      ]
    },
    {
      "cell_type": "markdown",
      "source": [
        "4. Evaluate the Model\n",
        "Finally, evaluate the model's performance on the test dataset."
      ],
      "metadata": {
        "id": "A-cGZEbc1rrN"
      }
    },
    {
      "cell_type": "code",
      "source": [
        "correct = 0\n",
        "total = 0\n",
        "with torch.no_grad():\n",
        "    for images, labels in testloader:\n",
        "        log_ps = model(images)\n",
        "        _, predicted = torch.max(log_ps.data, 1)\n",
        "        total += labels.size(0)\n",
        "        correct += (predicted == labels).sum().item()\n",
        "\n",
        "print(f'Accuracy of the network on the 10000 test images: {100 * correct // total} %')\n"
      ],
      "metadata": {
        "id": "RjIoOnz1zlm0",
        "colab": {
          "base_uri": "https://localhost:8080/"
        },
        "outputId": "39ad97ad-81b8-49a3-e8fa-ea764fe03d74"
      },
      "execution_count": null,
      "outputs": [
        {
          "output_type": "stream",
          "name": "stdout",
          "text": [
            "Accuracy of the network on the 10000 test images: 94 %\n"
          ]
        }
      ]
    },
    {
      "cell_type": "code",
      "source": [
        "#Change the Number of Epochs\n",
        "# Modify the number of epochs in the training loop. Try training the model for more epochs (e.g., 10, 15) and fewer epochs (e.g., 1, 3). Observe how this affects the training loss and the accuracy on the test dataset.\n",
        "\n",
        "# How does increasing the number of epochs affect the model's performance and training time? explain\n",
        "\n",
        "#In my tests I tried training the model with the following epochs in the following order and received the results in the brackets: 5(94%), 10(95%), 15(95%), 50(96%), 3(96%), 1(97%). When I increased the number of epochs the model's performance increased since it multiples tries to learn from the dataset\n",
        "#and adjust accordingly. This however lead to longer training time for example with epoch set to 50 it took 14 minutes to complete. I also realized that after training 50 before attempting lower number that the data set might've begun memorizing patterns in the dataset and after a bit of research I learned this is called\n",
        "#overfitting, where the model learns to memorize the training data instead of generalizing well to unseen data."
      ],
      "metadata": {
        "id": "sZZimflv0F6S"
      },
      "execution_count": null,
      "outputs": []
    },
    {
      "cell_type": "code",
      "source": [
        "#Modify the Model Architecture\n",
        "# Change the architecture of the neural network. Here are a few suggestions:\n",
        "# Add another fully connected layer with ReLU activation and observe the impact.\n",
        "# Increase or decrease the number of neurons in the hidden layers.\n",
        "# Introduce dropout in additional places or modify the dropout rate.\n",
        "\n",
        "#How does each modification affect the model's accuracy and training behavior? explain.\n",
        "\n",
        "#After researching each change and understanding the impact on the model's accuracy and training behavior I have found the following to be true:\n",
        "# 1. Add another fully connected layer with ReLU activation:\n",
        "# This modification can potentially allow the model to learn more complex representations of the data by introducing additional nonlinear transformations. However, adding more parameters may also increase the risk of overfitting, especially if the dataset is not sufficiently large. The impact on accuracy would depend on whether the added complexity helps capture important patterns in the data.\n",
        "\n",
        "# 2. Increase or decrease the number of neurons in the hidden layers:\n",
        "# Increasing the number of neurons can provide the model with more capacity to learn complex relationships in the data. This can lead to improved accuracy, especially if the previous architecture was underfitting. However, increasing the number of parameters also increases the risk of overfitting. Decreasing the number of neurons may lead to a simpler model that generalizes better but might sacrifice some accuracy.\n",
        "\n",
        "# 3. Introduce dropout in additional places or modify the dropout rate:\n",
        "# Dropout is a regularization technique used to prevent overfitting by randomly dropping units (along with their connections) during training. Increasing the dropout rate or introducing dropout in additional places can help in preventing overfitting, especially in deeper networks or with larger datasets. However, too much dropout can lead to underfitting, where the model fails to capture important patterns in the data.\n",
        "\n",
        "# Can you achieve higher accuracy with a more complex or deeper network? explain\n",
        "\n",
        "#Achieving higher accuracy with a more complex or deeper network is possible, but it requires careful consideration of the dataset size and the complexity.\n"
      ],
      "metadata": {
        "id": "BR3htPGu2WQS"
      },
      "execution_count": null,
      "outputs": []
    },
    {
      "cell_type": "code",
      "source": [
        "# Example Changes:\n",
        "\n",
        "class ModifiedNet(nn.Module):\n",
        "    def __init__(self):\n",
        "        super(ModifiedNet, self).__init__()\n",
        "        self.flatten = nn.Flatten()\n",
        "        self.fc1 = nn.Linear(28*28, 256)  # Increased number of neurons\n",
        "        self.fc2 = nn.Linear(256, 128)    # Additional layer\n",
        "        self.dropout = nn.Dropout(0.3)    # Adjusted dropout rate\n",
        "        self.fc3 = nn.Linear(128, 10)\n",
        "\n",
        "    def forward(self, x):\n",
        "        x = self.flatten(x)\n",
        "        x = F.relu(self.fc1(x))\n",
        "        x = self.dropout(x)\n",
        "        x = F.relu(self.fc2(x))           # Additional ReLU activation\n",
        "        x = self.dropout(x)               # Additional dropout\n",
        "        x = self.fc3(x)\n",
        "        return F.log_softmax(x, dim=1)\n"
      ],
      "metadata": {
        "id": "BqKbUmdD2jV4"
      },
      "execution_count": null,
      "outputs": []
    },
    {
      "cell_type": "markdown",
      "source": [
        "7. Visualize the Predictions\n"
      ],
      "metadata": {
        "id": "qgQ0qi7Q4tHK"
      }
    },
    {
      "cell_type": "code",
      "source": [
        "#Select a few images from the test set and visualize their predicted labels along with the true labels.\n",
        "# Use Matplotlib to display the images and predictions.\n",
        "\n",
        "import matplotlib.pyplot as plt\n",
        "import numpy as np\n",
        "\n",
        "# Function to visualize images and their predicted/true labels\n",
        "def visualize_predictions(images, predicted_labels, true_labels, class_names):\n",
        "    fig, axes = plt.subplots(nrows=1, ncols=len(images), figsize=(12, 4))\n",
        "    for i, ax in enumerate(axes):\n",
        "        ax.imshow(images[i].squeeze(), cmap='gray')\n",
        "        ax.set_title(f\"Predicted: {class_names[predicted_labels[i]]}\\nTrue: {class_names[true_labels[i]]}\")\n",
        "        ax.axis('off')\n",
        "    plt.show()\n",
        "\n",
        "# Select a few images and their true labels from the test set\n",
        "num_images_to_visualize = 6\n",
        "images_to_visualize = []\n",
        "true_labels_to_visualize = []\n",
        "predicted_labels = []\n",
        "\n",
        "for i, (images, labels) in enumerate(testloader):\n",
        "    if i == num_images_to_visualize:\n",
        "        break\n",
        "    images_to_visualize.append(images[0])  # Assuming batch size is 1\n",
        "    true_labels_to_visualize.append(labels[0].item())\n",
        "\n",
        "# Convert images and true labels to tensors\n",
        "images_to_visualize = torch.stack(images_to_visualize)\n",
        "true_labels_to_visualize = torch.tensor(true_labels_to_visualize)\n",
        "\n",
        "# Use the trained model to predict labels for the selected images\n",
        "with torch.no_grad():\n",
        "    model.eval()\n",
        "    outputs = model(images_to_visualize)\n",
        "    _, predicted_labels = torch.max(outputs, 1)\n",
        "\n",
        "# Define class names\n",
        "class_names = [str(i) for i in range(10)]\n",
        "\n",
        "# Visualize the predictions\n",
        "visualize_predictions(images_to_visualize, predicted_labels, true_labels_to_visualize, class_names)\n"
      ],
      "metadata": {
        "id": "GQVujieX252f",
        "colab": {
          "base_uri": "https://localhost:8080/",
          "height": 212
        },
        "outputId": "96d898dc-593a-4d19-dffd-3adc9281b198"
      },
      "execution_count": null,
      "outputs": [
        {
          "output_type": "display_data",
          "data": {
            "text/plain": [
              "<Figure size 1200x400 with 6 Axes>"
            ],
            "image/png": "[encoded data removed]"
          },
          "metadata": {}
        }
      ]
    }
  ]
}